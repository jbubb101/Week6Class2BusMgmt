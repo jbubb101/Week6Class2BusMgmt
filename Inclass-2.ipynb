{
 "cells": [
  {
   "cell_type": "markdown",
   "metadata": {},
   "source": [
    "## Triangle of Business MGMT\n",
    "\n",
    "- **Scope**\n",
    "- **Cost**\n",
    "- **Time**\n",
    "\n"
   ]
  },
  {
   "cell_type": "markdown",
   "metadata": {},
   "source": [
    "# EVM\n",
    "\n",
    "CPI is the **Cost Performance Index**\n",
    "\n",
    "SPI is the **Scheduled Performance Index**\n",
    "\n",
    "- CPI = (EV/AC)\n",
    "- CPI > 1 (under budget)\n",
    "- CPI < 1 (over budget)\n",
    "- SPI = (EV/PV)\n",
    "\n",
    "EV = *Earned Value*\n",
    "\n",
    "AC = *Actual Cost*\n",
    "\n",
    "- SPI > 1 (project ahead of schedule)"
   ]
  },
  {
   "cell_type": "markdown",
   "metadata": {},
   "source": [
    "# T-CPI\n",
    "\n",
    "T-CPI: **To-Complete Peformance Index**\n",
    "\n",
    "- T-CPI = (BAC - EV) / (BAC - AC)\n",
    "\n",
    "BAC == *Budget at completion*\n",
    "\n",
    "EV == *Earned Value*\n",
    "\n",
    "AC == *Actual Cost*"
   ]
  },
  {
   "cell_type": "markdown",
   "metadata": {},
   "source": [
    "## Forecasting\n",
    "\n",
    "EAC = (AC + Budget at completion - EV)/CPI\n",
    "\n",
    "EAC: **Estimate at Completion**"
   ]
  },
  {
   "cell_type": "markdown",
   "metadata": {},
   "source": [
    "## TCPI\n",
    "\n",
    "TCPI: *To-Complete Performance Index*\n",
    "\n",
    "TCPI = **(Budget at Completion - EV) / (Budget at Completion - AC)**\n",
    "\n",
    "- TCPI is the cost performance required to meet a specific financial goal (e.g., the original budget or revised forecase)\n",
    "\n",
    "- TCPI > 1 means a higher performance level is required to meet budget goals.\n",
    "\n",
    "We want the T-CPI  to be as close to zero as possible.\n",
    "\n",
    "**(Maximize EV and minimize AC)**"
   ]
  },
  {
   "cell_type": "markdown",
   "metadata": {},
   "source": [
    "## Control and Change Management Process\n",
    "\n",
    "- Indentify potnetial changes\n",
    "- Assess cost implications and seek approval\n",
    "- update budge and forecasts as needed\n",
    "\n",
    "Example: A project team identifies a necessary change in scope and uses the change mangement process to avoid unapproved spending."
   ]
  },
  {
   "cell_type": "markdown",
   "metadata": {},
   "source": [
    "# Case Study: Earned Value Management (EVM) in project Monitoring\n",
    "\n",
    "Given Data:\n",
    "- BAC = 200,000\n",
    "- PV: The budgeted cost for the work scheduled to be completed by Month 4, which is 100,000 (%50 of BAC)\n",
    "- Actual Cost (AC): The actual cost incurred by Month 4, which is 110,000\n",
    "- Earned Value (EV): The budgeted cost for the work actually completed by Month 4, which is 90,000\n",
    "\n",
    "Objectives:\n",
    "1. Calculate Cost performance Index (CPI) and Scheduled Performance Index (SPI)\n",
    "2. Calculate Estimate at Completion (EAC) and Estimate To Complete (ETC)\n",
    "3. Interpret the results to assess project status."
   ]
  },
  {
   "cell_type": "code",
   "execution_count": 42,
   "metadata": {},
   "outputs": [
    {
     "name": "stdout",
     "output_type": "stream",
     "text": [
      "The project is over budget. CPI: $0.82\n",
      "The project is behind schedule. SPI: 0.90%\n",
      "\n",
      "For every dollar spend we are only get 82 cents out of it.\n",
      "Only 90% of the work is getting completed out of 100%\n",
      "\n",
      "The Estimate At Completion. EAC: $268,888.89\n",
      "This is the Estimate to Complete: $158,888.89\n",
      "\n",
      "The scheduled budget was $200,000 but $268,000 was spent\n",
      "\n",
      "(ETC)The additional amount that will be needed if the current performance trend continues.\n"
     ]
    }
   ],
   "source": [
    "BAC = 200000\n",
    "PV = 100000\n",
    "AC = 110000\n",
    "EV = 90000\n",
    "\n",
    "\n",
    "\n",
    "# Objective 1\n",
    "CPI = (EV/AC)\n",
    "SPI = (EV/PV)\n",
    "\n",
    "# Objective 2\n",
    "\n",
    "EAC = (AC + (BAC-EV))/CPI\n",
    "\n",
    "ETC = (EAC - AC)\n",
    "\n",
    "# Objective 3\n",
    "\n",
    "if CPI > 1:\n",
    "    print(f\"The project is under budget. CPI: ${CPI:.2f}\")\n",
    "elif CPI == 1:\n",
    "    print(f\"The project is on budget. CPI: ${CPI:.2f}\")\n",
    "else:\n",
    "    print(f\"The project is over budget. CPI: ${CPI:.2f}\")\n",
    "\n",
    "if SPI > 1:\n",
    "    print(f\"The project is ahead of schedule. SPI: {SPI:.2f}%\")\n",
    "elif SPI == 1:\n",
    "    print(f\"The project is on schedule. SPI: {SPI:.2f}%\")\n",
    "else:\n",
    "    print(f\"The project is behind schedule. SPI: {SPI:.2f}%\")\n",
    "\n",
    "\n",
    "# Interpretation\n",
    "print(f\"\\nFor every dollar spend we are only get 82 cents out of it.\")\n",
    "print(f\"Only 90% of the work is getting completed out of 100%\\n\")\n",
    "\n",
    "print(f\"The Estimate At Completion. EAC: ${EAC:,.2f}\")\n",
    "print(f\"This is the Estimate to Complete: ${ETC:,.2f}\\n\")\n",
    "\n",
    "print(f\"The scheduled budget was $200,000 but $268,000 was spent\\n\")\n",
    "# print(f\"Cost overrun ${(EAC - BAC):.2f}\")\n",
    "\n",
    "\n",
    "print(f\"(ETC)The additional amount that will be needed if the current performance trend continues.\")\n",
    "\n",
    "\n",
    "\n",
    "\n",
    "\n",
    "\n"
   ]
  },
  {
   "cell_type": "markdown",
   "metadata": {},
   "source": [
    "EAC = BAC/CPI"
   ]
  },
  {
   "cell_type": "markdown",
   "metadata": {},
   "source": [
    "### Case Study: Trend Analysis in Project Cost Management.\n",
    "\n",
    "**Given Data**\n",
    "- Budget at completion (BAC): $120,000\n",
    "- Monthly Planned Costs: $20,000 each month for 6 months,\n",
    "\n",
    "- Monthly Actual Costs (data recorded for far):\n",
    "    - Month 1: $18,000\n",
    "    - Month 2: $22,000\n",
    "    - Month 3: $24,000\n",
    "    - Month 4: $26,000\n",
    "\n",
    "Objectives:\n",
    "1. Calculate the cumlative planned costs and cumlative actual costs over the months to date\n",
    "2. Indentify cost trends by comparing monthly variance\n",
    "3. Predict wheter the project will stay within the total budget by Month 6 based on observed trends."
   ]
  },
  {
   "cell_type": "code",
   "execution_count": 48,
   "metadata": {},
   "outputs": [
    {
     "name": "stdout",
     "output_type": "stream",
     "text": [
      "The monthly planned cost to date is: $80000\n",
      "The four month actual cost is: $90000\n"
     ]
    }
   ],
   "source": [
    "BAC = 120000\n",
    "monthly_pc = 20000\n",
    "monthly_ac_1 = 18000\n",
    "monthly_ac_2 = 22000\n",
    "monthly_ac_3 = 24000\n",
    "monthly_ac_4 = 26000\n",
    "\n",
    "CPC = (monthly_pc * 4)\n",
    "\n",
    "CAC = (monthly_ac_1 + monthly_ac_2 + monthly_ac_3 + monthly_ac_4)\n",
    "\n",
    "# Monthly variance\n",
    "\n",
    "variance_list = [18000,22000,24000,26000]\n",
    "\n",
    "final_variance = [18000, 40000, 64000, 90000]\n",
    "\n",
    "\n",
    "\n",
    "monthly_amounts = [20000,40000,60000,80000]\n",
    "\n",
    "\n",
    "\n",
    "# Objective 3\n",
    "print(f\"The monthly planned cost to date is: ${CPC}\")\n",
    "print(f\"The four month actual cost is: ${CAC}\")\n",
    "\n",
    "\n",
    "\n"
   ]
  },
  {
   "cell_type": "markdown",
   "metadata": {},
   "source": [
    "Line Chart or Bar Chart"
   ]
  },
  {
   "cell_type": "code",
   "execution_count": 52,
   "metadata": {},
   "outputs": [
    {
     "data": {
      "image/png": "[encoded data removed]",
      "text/plain": [
       "<Figure size 640x480 with 1 Axes>"
      ]
     },
     "metadata": {},
     "output_type": "display_data"
    }
   ],
   "source": [
    "import matplotlib.pyplot as plt\n",
    "\n",
    "# create data\n",
    "x = [1,2,3,4]\n",
    "y = monthly_amounts\n",
    "\n",
    "\n",
    "x2 = [1,2,3,4]\n",
    "y2 = final_variance\n",
    "\n",
    "plt.plot(x2, y2, label = \"line 2\")\n",
    "\n",
    "# plot line\n",
    "plt.plot(x,y)\n",
    "plt.legend()\n",
    "plt.show()\n",
    "\n"
   ]
  },
  {
   "cell_type": "markdown",
   "metadata": {},
   "source": [
    "### Case Study: To-Complete Performance Index (TCPI) for Product Budget Management\n",
    "\n",
    "**Given Data**\n",
    "- Budget At Completion (BAC): $500,000\n",
    "- Actual Cost (AC) so far: $300,000\n",
    "- Earned Value (EV), or value of work actually completed so far: $250,000\n",
    "- Revised Estiamte At Completion (EAC): After acessing the cost overrun, the team forecasts that the project might actually cost $550,000, if current trends continue.\n",
    "\n",
    "*Objective*\n",
    "\n",
    "1. Calcualte To-Complete Performance Index (T-CPI) based on the original BAC.\n",
    "2. Calculate TCPI based on the revised EAC.\n",
    "3. Interpret these T-CPI values to determine the cost effiency.required to meet both the original budget and the revised forecaset."
   ]
  },
  {
   "cell_type": "code",
   "execution_count": 57,
   "metadata": {},
   "outputs": [
    {
     "name": "stdout",
     "output_type": "stream",
     "text": [
      "A higher performance level is needed. 1.25\n",
      " Greater efficency is needed.\n"
     ]
    }
   ],
   "source": [
    "BAC = 500000\n",
    "AC = 300000\n",
    "EV = 250000\n",
    "EAC = 550000\n",
    "\n",
    "# Objective 1\n",
    "T_CPI = (BAC-EV)/(BAC-AC)\n",
    "\n",
    "if T_CPI > 1:\n",
    "    print(f\"A higher performance level is needed. {T_CPI}\\n Greater efficency is needed.\")\n",
    "elif T_CPI == 1:\n",
    "    ...\n",
    "else:\n",
    "    ...\n"
   ]
  }
 ],
 "metadata": {
  "kernelspec": {
   "display_name": "Python 3",
   "language": "python",
   "name": "python3"
  },
  "language_info": {
   "codemirror_mode": {
    "name": "ipython",
    "version": 3
   },
   "file_extension": ".py",
   "mimetype": "text/x-python",
   "name": "python",
   "nbconvert_exporter": "python",
   "pygments_lexer": "ipython3",
   "version": "3.11.5"
  }
 },
 "nbformat": 4,
 "nbformat_minor": 2
}
